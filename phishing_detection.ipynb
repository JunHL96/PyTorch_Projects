{
 "cells": [
  {
   "cell_type": "markdown",
   "metadata": {},
   "source": [
    "# Phishing Detection App With PyTorch"
   ]
  },
  {
   "cell_type": "markdown",
   "metadata": {},
   "source": [
    "## Imports"
   ]
  },
  {
   "cell_type": "code",
   "execution_count": 1,
   "metadata": {},
   "outputs": [],
   "source": [
    "# Cell 1\n",
    "import os\n",
    "import re\n",
    "import random\n",
    "import pandas as pd\n",
    "import torch\n",
    "import torch.nn as nn\n",
    "import torch.optim as optim\n",
    "from torch.utils.data import Dataset, DataLoader, random_split\n",
    "\n",
    "from datasets import load_dataset\n",
    "\n",
    "try:\n",
    "    from going_modular import data_setup, engine\n",
    "    from helper_functions import plot_loss_curves\n",
    "except Exception as e:\n",
    "    # Get the going_modular and helper_functions scripts\n",
    "    print(\"[INFO] Couldn't find going_modular or helper_functions scripts... downloading them from GitHub.\")\n",
    "    !git clone https://github.com/JunHL96/PyTorch-Course\n",
    "    !mv PyTorch-Course/going_modular .\n",
    "    !mv PyTorch-Course/helper_functions.py .\n",
    "    !rm -rf PyTorch-Course\n",
    "    from going_modular import data_setup, engine\n",
    "    from helper_functions import plot_loss_curves  "
   ]
  },
  {
   "cell_type": "markdown",
   "metadata": {},
   "source": [
    "## Device Agnostic Code"
   ]
  },
  {
   "cell_type": "code",
   "execution_count": 29,
   "metadata": {},
   "outputs": [
    {
     "name": "stdout",
     "output_type": "stream",
     "text": [
      "Using device: mps\n"
     ]
    }
   ],
   "source": [
    "device = torch.device(\"cuda\" if torch.cuda.is_available() \n",
    "                      else \"mps\" if torch.backends.mps.is_available() \n",
    "                      else \"cpu\")\n",
    "print(\"Using device:\", device)"
   ]
  },
  {
   "cell_type": "markdown",
   "metadata": {},
   "source": [
    "\n",
    "## Phishing Dataset Documentation  \n"
   ]
  },
  {
   "cell_type": "markdown",
   "metadata": {},
   "source": [
    "\n",
    "This dataset is a compilation of phishing and benign (non-phishing) data from multiple sources, preprocessed for machine learning tasks such as classification and phishing detection.  \n",
    "\n",
    "### Dataset Overview\n",
    "- **Preprocessing**:  \n",
    "  - Null, empty, and duplicate entries have already been removed.  \n",
    "  - Class balancing has been applied to mitigate biases.  \n",
    "- **Structure**:  \n",
    "  - Two columns: `text` (input data) and `label` (binary classification).  \n",
    "    - `text` may contain: **URLs**, **SMS messages**, **email bodies**, or **HTML code**.  \n",
    "    - `label`: `1` (Phishing) or `0` (Benign).  \n",
    "\n",
    "\n",
    "### Source Data  \n",
    "The dataset combines four distinct sources:  \n",
    "\n",
    "#### 1. **Email Dataset**  \n",
    "- **Source**: Enron Corporation employee emails.  \n",
    "- **Size**: Over 18,000 emails.  \n",
    "- **Use Case**: Text analysis for phishing email detection.  \n",
    "\n",
    "#### 2. **SMS Dataset**  \n",
    "- **Source**: Internet-collected SMS messages.  \n",
    "- **Size**: 5,971 messages (489 Spam, 638 Smishing, 4,844 Ham).  \n",
    "- **Collection Method**: Converted from images to text via Python.  \n",
    "\n",
    "#### 3. **URL Dataset**  \n",
    "- **Source**: Aggregated from JPCERT, Kaggle, GitHub, and open-source databases.  \n",
    "- **Size**: 800,000+ URLs (52% legitimate, 47% phishing).  \n",
    "- **Update Frequency**: URLs refreshed annually.  \n",
    "\n",
    "#### 4. **Website Dataset**  \n",
    "- **Sources**:  \n",
    "  - **Legitimate**: Google search results (top 5 URLs per query) + Ebbu2017 Phishing Dataset.  \n",
    "  - **Phishing**: PhishTank, OpenPhish, PhishRepo.  \n",
    "- **Size**: 80,000 instances (50,000 legitimate, 30,000 phishing).  \n",
    "- **Diversity**: Domain restrictions applied (max 10 entries per domain).  \n",
    "\n",
    "\n"
   ]
  },
  {
   "cell_type": "code",
   "execution_count": 3,
   "metadata": {},
   "outputs": [
    {
     "data": {
      "application/vnd.microsoft.datawrangler.viewer.v0+json": {
       "columns": [
        {
         "name": "index",
         "rawType": "int64",
         "type": "integer"
        },
        {
         "name": "clean_text",
         "rawType": "object",
         "type": "string"
        },
        {
         "name": "label",
         "rawType": "int64",
         "type": "integer"
        }
       ],
       "conversionMethod": "pd.DataFrame",
       "ref": "4fe667a0-79c6-41f2-aa71-a08af76bbdaa",
       "rows": [
        [
         "0",
         "clipper servicing and repair clippersharp ltd function i s o g r a m i googleanalyticsobject r i r i r function i r q i r q push arguments i r l 1 new date a s createelement o m s getelementsbytagname o 0 a async 1 a src g m parentnode insertbefore a m window document script https www google analytics com analytics js ga ga create ua 32284938 21 auto ga require ec function w d s l i w l w l w l push gtm start new date gettime event gtm js var f d getelementsbytagname s 0 j d createelement s dl l datalayer l l j async true j src www googletagmanager com gtm js id i dl f parentnode insertbefore j f window document script datalayer aw 872296651 function c h i m p m c createelement h p c getelementsbytagname h 0 m async 1 m src i p parentnode insertbefore m p document script https chimpstatic com mcjs connected js users 1a0a8604054f71fef1421b8b2 9f496d78ea9b2c90f3becd2a3 js function a t o m s a m a m a m push t new date gettime event snippetrun var f t getelementsbytagname o 0 e t createelement o d m paypalddl m m e async 0 e src https www paypal com tagmanager pptm js id s d f parentnode insertbefore e f window document script paypalddl 07df452b 8f6e 49ff b313 bbfd68c97381 skip to main content directions store hours contact us sign in register basket menu home clippers trimmers view by category clippers winter clipper offers dog veterinary clippers light duty clippers medium duty clippers heavy duty clippers more clippers trimmers pet horse rechargeable trimmers spare parts accessories batteries more spare parts accessories all clippers trimmers view by brand aesculap andis clippersharp clipster heiniger kerbl lister liveryman oster wahl all brands shearing view by category sheep shears handpieces cutters combs shearing accessories all shearing view by brand heiniger kerbl lister all brands blades view by category clipper blades aesculap lister liveryman wolseley heiniger hauptner liscop kerbl trimmer pet blades heiniger andis lister liveryman oster clipper blades wahl aesculap wolseley constanta more trimmer pet blades blade attachments blade storage blade cleaner clipper oil all blades pet grooming view by category health well being flea tick removal nail ear care dog grooming dog clippers trimmers scissors shedding stripping shampoos conditioners brushes combs mitts dog coats anorak dri dog bags trouser suits wax cotton coat all pet grooming horse rider view by category grooming brushes combs grooming mitts sponges hoof care mane and tail rakes tackroom cleaning maintenance first aid fly prevention leather care studs accessories more tackroom competition prep coat shines glosses detanglers make up enhancers plaiting essentials quarter marking shampoos conditioners whitening products trimming tidying pocket trimmers scissors thinning knives shedding tools more trimming tidying horse rider wear eventing essentials gloves socks lead ropes supplements stable yard brooms yard essentials gifts all horse rider view by brand borstiq clippersharp hy kennedy equi products lincoln liveryman nikwax smart grooming supastuds wahl all brands solar lighting view by brand solar technology all brands clipper servicing repair blade sharpening learning portal offers home clipper servicing repair clipper servicing repair clipper servicing servicing update 15 02 2021 we are continuing to carry out clipper servicing and blade sharpening throughout lockdown and will endeavour to keep our turnaround times to a minimum where we possibly can however due to supply issues delays are to be expected if you wish to send your clippers to us for servicing please allow 1 2 weeks from arrival at clippersharp please note this is subject to change if you would like an update with your clippers please do contact us 01823 681076 should you wish to have your clippers returned and not serviced you are welcome to have them collected click here for more information price guide trimmer service 17 50 clipper service 35 00 note these prices do not include parts blade sharpening or return postage please see below for more information on our clipper servicing and for a step by step guide below on how to send your clippers to us need your blades sharpened too simply include them in with your clippers when you send them for servicing if you only need your clipper blades scissors sharpened please click here to book your blades in for sharpening replacement parts the cost of replacement parts can only be determined once the engineer has examined your machine a replacement tension set and other minimal parts are always provided unless specified otherwise return postage our charge for return courier delivery is currently 9 50 please note this may vary for delivery to certain areas within the uk and will change for deliveries outside of the uk for a quote please contact us 01823 681076 book a collection in order for you to get your clippers to us without having to go to a post office please use any of the links below to book and pay for a collection all you then need to do is package your clippers up well and leave on your doorstep for the courier to collect uk mail click here for the booking page parcel monkey click here for the booking page dhl click here for the booking page please note that collection costs can vary due to weight size contents and how valuable the parcel is our address is clippersharp ltd southwoods farm culmstock cullompton devon ex15 3jx please follow our step by step guide below on how to send your clippers to us 1 check that we can service your clippers we can service aesculap andis lister liveryman heiniger wolsley wahl oster moser hauptner liscop kerbl we cannot service huntmaster clipmaster clipperman masterclip remmington babyliss thrive if you can t see your brand on the list please email us a picture of your clipper to check if we are able to help you sales clippersharp com 2 tell us about you and your clippers the more information you can provide with your clippers the better if you require a quote before work goes ahead on your clippers please make this clear on the paperwork sent with your clippers please click here to download a clipper service repair form 3 package your clippers well to protect them in transit if your clippers have a plastic carry case please do send them in the case for added protection we recommend to use bubble wrap or other padding around the case itself otherwise pack well in a strong cardboard box remember to include the charger and battery if you are sending a battery powered machine 4 send your parcel with a reputable courier we recommend sending all clippers using a tracked and signed for service to ensure they have arrived safely as we don t contact customers until their clippers are ready to be returned battery powered machines must be sent using a courier we recommend using ukmail who will accept all batteries that are being collected and delivered within the uk please click here to go to the uk mail booking page mains powered machines can be sent either by courier or royal mail by taking them to your local post office customers have had problems with myhermes in the past when sending clippers and suggest using an alternative where possible 5 where to send our address is as follows clippersharp ltd southwoods farm culmstock cullompton devon ex15 3jx include your own senders address just in case there is problem in transit arrival of your machine at clippersharp hq when your clippers arrive they are booked in the contents of your parcel is listed and the date of arrival is noted we do not provide notification of receipt once at the front of the queue they will be taken into the workshop and examined by the engineer if requested a quote will be provided by telephone on the condition that the work required is outside the remit of a standard service the engineer will then carry out all the necessary work on your machine how to pay once the work is complete we will contact you by phone or email payment can be made by online invoice we will need your email address for this you will then be able to pay your outstanding invoice by entering the quote reference number we give you here telephone if you would prefer to pay by telephone we will be in contact when the work is complete to take card payment details bacs payments can also be made by bank transfer just let us know how you d like to pay more information clippersharp ltd about us contact us directions store hours testimonials blog mailing list sponsored riders customer service delivery information returns refunds terms conditions sharpening servicing repair terms conditions privacy cookies sitemap useful links events retrieve a quote loyalty scheme secure online payments you can be assured that purchasing from us is safe all of our card transactions are processed securely by sagepay copyright clippersharp ltd 2021 all rights reserved company registration no 5589144 vat no 730 4859 32 var google tag params ecomm pagetype other window datalayer window datalayer datalayer push event fireremarketingtag google tag params window google tag params ga send pageview",
         "0"
        ],
        [
         "1",
         "http online0mgeving ga triodos",
         "1"
        ],
        [
         "2",
         "metronews ca webapp login aspx logout true rurl toronto sports article 1022417 impact name mauro biello assistant coach",
         "0"
        ],
        [
         "3",
         "https rarkuntem co jp fpjiehk cn index1 php",
         "1"
        ],
        [
         "4",
         "freebase com view m 0ct05qn",
         "0"
        ]
       ],
       "shape": {
        "columns": 2,
        "rows": 5
       }
      },
      "text/html": [
       "<div>\n",
       "<style scoped>\n",
       "    .dataframe tbody tr th:only-of-type {\n",
       "        vertical-align: middle;\n",
       "    }\n",
       "\n",
       "    .dataframe tbody tr th {\n",
       "        vertical-align: top;\n",
       "    }\n",
       "\n",
       "    .dataframe thead th {\n",
       "        text-align: right;\n",
       "    }\n",
       "</style>\n",
       "<table border=\"1\" class=\"dataframe\">\n",
       "  <thead>\n",
       "    <tr style=\"text-align: right;\">\n",
       "      <th></th>\n",
       "      <th>clean_text</th>\n",
       "      <th>label</th>\n",
       "    </tr>\n",
       "  </thead>\n",
       "  <tbody>\n",
       "    <tr>\n",
       "      <th>0</th>\n",
       "      <td>clipper servicing and repair clippersharp ltd ...</td>\n",
       "      <td>0</td>\n",
       "    </tr>\n",
       "    <tr>\n",
       "      <th>1</th>\n",
       "      <td>http online0mgeving ga triodos</td>\n",
       "      <td>1</td>\n",
       "    </tr>\n",
       "    <tr>\n",
       "      <th>2</th>\n",
       "      <td>metronews ca webapp login aspx logout true rur...</td>\n",
       "      <td>0</td>\n",
       "    </tr>\n",
       "    <tr>\n",
       "      <th>3</th>\n",
       "      <td>https rarkuntem co jp fpjiehk cn index1 php</td>\n",
       "      <td>1</td>\n",
       "    </tr>\n",
       "    <tr>\n",
       "      <th>4</th>\n",
       "      <td>freebase com view m 0ct05qn</td>\n",
       "      <td>0</td>\n",
       "    </tr>\n",
       "  </tbody>\n",
       "</table>\n",
       "</div>"
      ],
      "text/plain": [
       "                                          clean_text  label\n",
       "0  clipper servicing and repair clippersharp ltd ...      0\n",
       "1                     http online0mgeving ga triodos      1\n",
       "2  metronews ca webapp login aspx logout true rur...      0\n",
       "3        https rarkuntem co jp fpjiehk cn index1 php      1\n",
       "4                        freebase com view m 0ct05qn      0"
      ]
     },
     "metadata": {},
     "output_type": "display_data"
    }
   ],
   "source": [
    "# Cell 2\n",
    "dataset = load_dataset(\"ealvaradob/phishing-dataset\", \"combined_reduced\", trust_remote_code=True)\n",
    "df = dataset[\"train\"].to_pandas()\n",
    "\n",
    "def clean_text(text):\n",
    "    # Replace HTML tags with a space\n",
    "    text = re.sub(r\"</?[^>]+>\", \" \", text)\n",
    "    # Convert to lowercase\n",
    "    text = text.lower()\n",
    "    # Replace non-alphanumeric characters with a space\n",
    "    text = re.sub(r\"[^a-z0-9]\", \" \", text)\n",
    "    # Replace multiple spaces with a single space\n",
    "    text = re.sub(r\"\\s+\", \" \", text)\n",
    "    return text.strip()\n",
    "\n",
    "df['clean_text'] = df['text'].apply(clean_text)\n",
    "display(df[['clean_text', 'label']].head())"
   ]
  },
  {
   "cell_type": "code",
   "execution_count": 4,
   "metadata": {},
   "outputs": [
    {
     "name": "stdout",
     "output_type": "stream",
     "text": [
      "Overwriting going_modular/transformer_model.py\n"
     ]
    }
   ],
   "source": [
    "%%writefile going_modular/transformer_model.py\n",
    "import torch\n",
    "import torch.nn as nn\n",
    "from transformers import DistilBertModel\n",
    "\n",
    "class TransformerTextClassifier(nn.Module):\n",
    "    def __init__(self, num_classes, dropout_prob=0.5):\n",
    "        super(TransformerTextClassifier, self).__init__()\n",
    "        # Load pretrained DistilBERT model\n",
    "        self.bert = DistilBertModel.from_pretrained(\"distilbert-base-uncased\")\n",
    "        hidden_size = self.bert.config.hidden_size  # typically 768\n",
    "        # Batch normalization applied on the CLS token\n",
    "        self.batchnorm = nn.BatchNorm1d(hidden_size)\n",
    "        self.dropout = nn.Dropout(dropout_prob)\n",
    "        self.classifier = nn.Linear(hidden_size, num_classes)\n",
    "    \n",
    "    def forward(self, x):\n",
    "        \"\"\"\n",
    "        Expects x to be a dict with keys 'input_ids' and 'attention_mask'.\n",
    "        \"\"\"\n",
    "        input_ids = x[\"input_ids\"]\n",
    "        attention_mask = x[\"attention_mask\"]\n",
    "        outputs = self.bert(input_ids=input_ids, attention_mask=attention_mask)\n",
    "        # Use the first token ([CLS]) representation for classification\n",
    "        cls_token = outputs.last_hidden_state[:, 0, :]  # (batch_size, hidden_size)\n",
    "        normalized = self.batchnorm(cls_token)\n",
    "        dropped = self.dropout(normalized)\n",
    "        logits = self.classifier(dropped)\n",
    "        return logits"
   ]
  },
  {
   "cell_type": "code",
   "execution_count": 5,
   "metadata": {},
   "outputs": [
    {
     "name": "stdout",
     "output_type": "stream",
     "text": [
      "Overwriting going_modular/data_augmentation.py\n"
     ]
    }
   ],
   "source": [
    "%%writefile going_modular/data_augmentation.py\n",
    "import random\n",
    "\n",
    "def random_deletion(tokens, deletion_prob=0.1):\n",
    "    \"\"\"\n",
    "    Randomly delete tokens with a given probability.\n",
    "    If all tokens are deleted, returns the original list.\n",
    "    \"\"\"\n",
    "    if not tokens:\n",
    "        return tokens\n",
    "    new_tokens = [token for token in tokens if random.random() > deletion_prob]\n",
    "    return new_tokens if new_tokens else tokens\n",
    "\n",
    "def augment_text(tokens, deletion_prob=0.1):\n",
    "    \"\"\"\n",
    "    Augment a list of tokens using random deletion.\n",
    "    \"\"\"\n",
    "    return random_deletion(tokens, deletion_prob)"
   ]
  },
  {
   "cell_type": "code",
   "execution_count": 6,
   "metadata": {},
   "outputs": [],
   "source": [
    "# Cell 5\n",
    "import torch\n",
    "from torch.utils.data import Dataset, random_split\n",
    "from transformers import DistilBertTokenizer\n",
    "from going_modular.data_augmentation import augment_text\n",
    "\n",
    "# Load the DistilBert tokenizer\n",
    "# pretrained weights are downloaded and cached during the first run\n",
    "tokenizer = DistilBertTokenizer.from_pretrained(\"distilbert-base-uncased\")\n",
    "\n",
    "# Helper class to wrap batched tensors and support .to(device)\n",
    "class TransformerBatchCollated:\n",
    "    def __init__(self, batch_dict):\n",
    "        self.batch_dict = batch_dict\n",
    "    def to(self, device):\n",
    "        new_dict = {k: v.to(device) for k, v in self.batch_dict.items()}\n",
    "        return TransformerBatchCollated(new_dict)\n",
    "    # To allow dictionary-like access\n",
    "    def __getitem__(self, key):\n",
    "        return self.batch_dict[key]\n",
    "    def keys(self):\n",
    "        return self.batch_dict.keys()\n",
    "    def items(self):\n",
    "        return self.batch_dict.items()\n",
    "\n",
    "# Custom collate function for the DataLoader\n",
    "def transformer_collate_fn(batch):\n",
    "    \"\"\"\n",
    "    Expects batch to be a list of tuples: (dict of tensors from a single example, label).\n",
    "    Returns a tuple: (TransformerBatchCollated, labels tensor)\n",
    "    \"\"\"\n",
    "    # Each element of batch is a tuple: (batch_item_dict, label)\n",
    "    # We want to stack each key from the dictionaries.\n",
    "    input_ids = torch.stack([item[0][\"input_ids\"] for item in batch])\n",
    "    attention_mask = torch.stack([item[0][\"attention_mask\"] for item in batch])\n",
    "    labels = torch.stack([item[1] for item in batch])\n",
    "    batch_dict = {\"input_ids\": input_ids, \"attention_mask\": attention_mask}\n",
    "    return (TransformerBatchCollated(batch_dict), labels)\n",
    "\n",
    "# Dataset class for transformer-based phishing detection\n",
    "class TransformerPhishingDataset(Dataset):\n",
    "    def __init__(self, df, max_len=128, augmentation_fn=None):\n",
    "        \"\"\"\n",
    "        df: DataFrame containing at least 'clean_text' and 'label' columns.\n",
    "        augmentation_fn: Function to augment tokenized text (applied only during training).\n",
    "        \"\"\"\n",
    "        self.df = df.reset_index(drop=True)\n",
    "        self.max_len = max_len\n",
    "        self.augmentation_fn = augmentation_fn\n",
    "        \n",
    "    def __len__(self):\n",
    "        return len(self.df)\n",
    "    \n",
    "    def __getitem__(self, idx):\n",
    "        # Get the cleaned text and label\n",
    "        text = self.df.loc[idx, \"clean_text\"]\n",
    "        label = self.df.loc[idx, \"label\"]\n",
    "        \n",
    "        # Tokenize by splitting on whitespace; apply augmentation if provided\n",
    "        tokens = text.split()\n",
    "        if self.augmentation_fn is not None:\n",
    "            tokens = self.augmentation_fn(tokens)\n",
    "        # Reconstruct the text after augmentation\n",
    "        aug_text = \" \".join(tokens)\n",
    "        \n",
    "        # Encode using the DistilBERT tokenizer\n",
    "        encoding = tokenizer.encode_plus(\n",
    "            aug_text,\n",
    "            add_special_tokens=True,\n",
    "            max_length=self.max_len,\n",
    "            padding=\"max_length\",\n",
    "            truncation=True,\n",
    "            return_attention_mask=True,\n",
    "            return_tensors=\"pt\"\n",
    "        )\n",
    "        # Squeeze to remove extra dimensions\n",
    "        input_ids = encoding[\"input_ids\"].squeeze(0)\n",
    "        attention_mask = encoding[\"attention_mask\"].squeeze(0)\n",
    "        \n",
    "        # Return a tuple: (dictionary of tensors, label)\n",
    "        example_dict = {\"input_ids\": input_ids, \"attention_mask\": attention_mask}\n",
    "        return (example_dict, torch.tensor(label, dtype=torch.long))\n",
    "\n",
    "# Create the full transformer dataset using our DataFrame and augmentation function\n",
    "full_transformer_dataset = TransformerPhishingDataset(df, max_len=128, augmentation_fn=augment_text)"
   ]
  },
  {
   "cell_type": "code",
   "execution_count": 7,
   "metadata": {},
   "outputs": [
    {
     "name": "stdout",
     "output_type": "stream",
     "text": [
      "Transformer train dataset size: 62141\n",
      "Transformer test dataset size: 15536\n"
     ]
    }
   ],
   "source": [
    "# Cell 6\n",
    "train_size = int(0.8 * len(full_transformer_dataset))\n",
    "test_size = len(full_transformer_dataset) - train_size\n",
    "train_dataset_transformer, test_dataset_transformer = random_split(full_transformer_dataset, [train_size, test_size])\n",
    "\n",
    "print(\"Transformer train dataset size:\", len(train_dataset_transformer))\n",
    "print(\"Transformer test dataset size:\", len(test_dataset_transformer))\n",
    "\n",
    "# Create DataLoaders with the custom collate function\n",
    "BATCH_SIZE_TRANSFORMER = 32\n",
    "train_loader_transformer = DataLoader(train_dataset_transformer, batch_size=BATCH_SIZE_TRANSFORMER, shuffle=True, collate_fn=transformer_collate_fn)\n",
    "test_loader_transformer = DataLoader(test_dataset_transformer, batch_size=BATCH_SIZE_TRANSFORMER, collate_fn=transformer_collate_fn)"
   ]
  },
  {
   "cell_type": "code",
   "execution_count": 8,
   "metadata": {},
   "outputs": [
    {
     "data": {
      "application/vnd.jupyter.widget-view+json": {
       "model_id": "2ad6745c0d8543cf8a4ca17d8f10cabe",
       "version_major": 2,
       "version_minor": 0
      },
      "text/plain": [
       "  0%|          | 0/3 [00:00<?, ?it/s]"
      ]
     },
     "metadata": {},
     "output_type": "display_data"
    },
    {
     "name": "stdout",
     "output_type": "stream",
     "text": [
      "Epoch: 1 | train_loss: 0.2851 | train_acc: 0.8784 | test_loss: 0.1962 | test_acc: 0.9176\n",
      "Epoch: 2 | train_loss: 0.1690 | train_acc: 0.9345 | test_loss: 0.1666 | test_acc: 0.9378\n",
      "Epoch: 3 | train_loss: 0.1235 | train_acc: 0.9535 | test_loss: 0.1649 | test_acc: 0.9368\n"
     ]
    }
   ],
   "source": [
    "# Cell 7 (Modified for device-agnostic training)\n",
    "import torch\n",
    "import torch.nn as nn\n",
    "import torch.optim as optim\n",
    "from going_modular import engine\n",
    "from going_modular.transformer_model import TransformerTextClassifier\n",
    "\n",
    "# Hyperparameters for transformer training\n",
    "EPOCHS_TRANSFORMER = 3  # Adjust as needed\n",
    "LEARNING_RATE_TRANSFORMER = 2e-5\n",
    "\n",
    "# Instantiate the transformer model and move to the selected device\n",
    "model_transformer = TransformerTextClassifier(num_classes=2, \n",
    "                                              dropout_prob=0.5)\n",
    "model_transformer.to(device)\n",
    "\n",
    "# Loss and optimizer (using AdamW is common with transformers)\n",
    "loss_fn = nn.CrossEntropyLoss()\n",
    "optimizer = optim.AdamW(model_transformer.parameters(), \n",
    "                        lr=LEARNING_RATE_TRANSFORMER)\n",
    "\n",
    "# Train the transformer-based model using the modular engine\n",
    "results_transformer = engine.train(model=model_transformer,\n",
    "                                   train_dataloader=train_loader_transformer,\n",
    "                                   test_dataloader=test_loader_transformer,\n",
    "                                   optimizer=optimizer,\n",
    "                                   loss_fn=loss_fn,\n",
    "                                   epochs=EPOCHS_TRANSFORMER,\n",
    "                                   device=device)"
   ]
  },
  {
   "cell_type": "code",
   "execution_count": 31,
   "metadata": {},
   "outputs": [
    {
     "name": "stdout",
     "output_type": "stream",
     "text": [
      "Loss: 0.1606\n",
      "Accuracy: 0.9376\n",
      "Precision: 0.9560\n",
      "Recall: 0.8895\n",
      "False Positive Rate: 0.0287\n"
     ]
    },
    {
     "data": {
      "image/png": "[encoded data removed]",
      "text/plain": [
       "<Figure size 640x480 with 2 Axes>"
      ]
     },
     "metadata": {},
     "output_type": "display_data"
    }
   ],
   "source": [
    "from sklearn.metrics import accuracy_score, precision_score, recall_score, confusion_matrix, ConfusionMatrixDisplay\n",
    "import matplotlib.pyplot as plt\n",
    "\n",
    "# Evaluate the model on the test set\n",
    "model_transformer.eval()\n",
    "all_preds = []\n",
    "all_labels = []\n",
    "test_loss_total = 0\n",
    "\n",
    "with torch.inference_mode():\n",
    "    for batch, (X, y) in enumerate(test_loader_transformer):\n",
    "        inputs = X.to(device)\n",
    "        outputs = model_transformer(inputs)\n",
    "        loss = loss_fn(outputs, y.to(device))\n",
    "        test_loss_total += loss.item()\n",
    "        preds = torch.argmax(outputs, dim=1)\n",
    "        all_preds.extend(preds.cpu().numpy())\n",
    "        all_labels.extend(y.cpu().numpy())\n",
    "\n",
    "# Compute average test loss\n",
    "avg_loss = test_loss_total / len(test_loader_transformer)\n",
    "\n",
    "# Compute accuracy, precision, recall\n",
    "accuracy = accuracy_score(all_labels, all_preds)\n",
    "precision = precision_score(all_labels, all_preds)\n",
    "recall = recall_score(all_labels, all_preds)\n",
    "\n",
    "# Compute confusion matrix and false positive rate\n",
    "cm = confusion_matrix(all_labels, all_preds)\n",
    "TN, FP, FN, TP = cm.ravel()\n",
    "false_positive_rate = FP / (FP + TN)\n",
    "\n",
    "print(f\"Loss: {avg_loss:.4f}\")\n",
    "print(f\"Accuracy: {accuracy:.4f}\")\n",
    "print(f\"Precision: {precision:.4f}\")\n",
    "print(f\"Recall: {recall:.4f}\")\n",
    "print(f\"False Positive Rate: {false_positive_rate:.4f}\")\n",
    "\n",
    "# Display the confusion matrix\n",
    "disp = ConfusionMatrixDisplay(confusion_matrix=cm, display_labels=[\"Benign\", \"Phishing\"])\n",
    "disp.plot(cmap=plt.cm.Blues)\n",
    "plt.title(\"Confusion Matrix\")\n",
    "plt.show()"
   ]
  },
  {
   "cell_type": "code",
   "execution_count": 32,
   "metadata": {},
   "outputs": [],
   "source": [
    "# Cell 9\n",
    "from pathlib import Path\n",
    "import shutil\n",
    "import os\n",
    "\n",
    "# Create directory structure for deployable app\n",
    "demo_dir = Path(\"demos/phishing_email\")\n",
    "examples_dir = demo_dir / \"examples\"\n",
    "\n",
    "# If the directory exists, remove it and create fresh directories\n",
    "if demo_dir.exists():\n",
    "    shutil.rmtree(demo_dir)\n",
    "demo_dir.mkdir(parents=True, exist_ok=True)\n",
    "examples_dir.mkdir(parents=True, exist_ok=True)\n",
    "\n",
    "# For demonstration, let's write some example emails to the examples directory.\n",
    "# (In a real scenario you might want to have realistic examples.)\n",
    "example_emails = [\n",
    "    \"Dear customer, your account has been compromised. Click here to reset your password.\",\n",
    "    \"Congratulations! You've won a lottery. Please send your bank details to claim the prize.\",\n",
    "    \"Meeting at 10am tomorrow. Please review the attached agenda.\",\n",
    "    \"Urgent: Your invoice is overdue. Please remit payment immediately.\",\n",
    "    \"Hi, just checking in to see if you received my previous email.\",\n",
    "]\n",
    "\n",
    "# Save each example email as a text file in the examples folder\n",
    "for i, email in enumerate(example_emails):\n",
    "    with open(examples_dir / f\"email_{i+1}.txt\", \"w\") as f:\n",
    "        f.write(email)\n"
   ]
  },
  {
   "cell_type": "code",
   "execution_count": 33,
   "metadata": {},
   "outputs": [
    {
     "name": "stdout",
     "output_type": "stream",
     "text": [
      "Writing demos/phishing_email/model.py\n"
     ]
    }
   ],
   "source": [
    "%%writefile demos/phishing_email/model.py\n",
    "\n",
    "# Write model.py file (this file loads the transformer model from its state_dict)\n",
    "\n",
    "import torch\n",
    "import torch.nn as nn\n",
    "from transformers import DistilBertModel\n",
    "\n",
    "class TransformerTextClassifier(nn.Module):\n",
    "    def __init__(self, num_classes=2, dropout_prob=0.5):\n",
    "        super(TransformerTextClassifier, self).__init__()\n",
    "        self.bert = DistilBertModel.from_pretrained(\"distilbert-base-uncased\")\n",
    "        hidden_size = self.bert.config.hidden_size  # typically 768\n",
    "        self.batchnorm = nn.BatchNorm1d(hidden_size)\n",
    "        self.dropout = nn.Dropout(dropout_prob)\n",
    "        self.classifier = nn.Linear(hidden_size, num_classes)\n",
    "    \n",
    "    def forward(self, x):\n",
    "        input_ids = x[\"input_ids\"]\n",
    "        attention_mask = x[\"attention_mask\"]\n",
    "        outputs = self.bert(input_ids=input_ids, attention_mask=attention_mask)\n",
    "        cls_token = outputs.last_hidden_state[:, 0, :]\n",
    "        normalized = self.batchnorm(cls_token)\n",
    "        dropped = self.dropout(normalized)\n",
    "        logits = self.classifier(dropped)\n",
    "        return logits\n",
    "\n",
    "def load_model(model_path: str, device: torch.device):\n",
    "    model = TransformerTextClassifier(num_classes=2, dropout_prob=0.5)\n",
    "    model.load_state_dict(torch.load(model_path, map_location=device))\n",
    "    model.to(device)\n",
    "    model.eval()\n",
    "    return model\n",
    "\n",
    "# End of model.py\n"
   ]
  },
  {
   "cell_type": "code",
   "execution_count": 34,
   "metadata": {},
   "outputs": [
    {
     "name": "stdout",
     "output_type": "stream",
     "text": [
      "[INFO] Saving model to: demos/phishing_email/transformer_phishing_model.pth\n"
     ]
    }
   ],
   "source": [
    "\n",
    "# Save the trained model using the utility function from going_modular/utils.py\n",
    "from going_modular import utils\n",
    "utils.save_model(model=model_transformer, target_dir=\"demos/phishing_email\", model_name=\"transformer_phishing_model.pth\")\n",
    "\n"
   ]
  },
  {
   "cell_type": "code",
   "execution_count": 35,
   "metadata": {},
   "outputs": [
    {
     "name": "stdout",
     "output_type": "stream",
     "text": [
      "Writing demos/phishing_email/app.py\n"
     ]
    }
   ],
   "source": [
    "\n",
    "%%writefile demos/phishing_email/app.py\n",
    "\n",
    "# Write app.py file to deploy the Gradio app\n",
    "\n",
    "import os\n",
    "import torch\n",
    "import gradio as gr\n",
    "import re\n",
    "from transformers import DistilBertTokenizer\n",
    "from timeit import default_timer as timer\n",
    "from demos.phishing_email.model import load_model\n",
    "\n",
    "# For inference, always load to CPU for Hugging Face Spaces compatibility\n",
    "device = torch.device(\"cpu\")\n",
    "\n",
    "# Load the model (ensure the saved state_dict file is in the correct path)\n",
    "model = load_model(\"demos/phishing_email/transformer_phishing_model.pth\", device)\n",
    "\n",
    "# Load the tokenizer\n",
    "tokenizer = DistilBertTokenizer.from_pretrained(\"distilbert-base-uncased\")\n",
    "\n",
    "def clean_text(text):\n",
    "    text = re.sub(r\"</?[^>]+>\", \" \", text)\n",
    "    text = text.lower()\n",
    "    text = re.sub(r\"[^a-z0-9]\", \" \", text)\n",
    "    text = re.sub(r\"\\s+\", \" \", text)\n",
    "    return text.strip()\n",
    "\n",
    "def predict_email(email: str):\n",
    "    start_time = timer()\n",
    "    # Clean the input text\n",
    "    email_clean = clean_text(email)\n",
    "    # Tokenize using the DistilBertTokenizer\n",
    "    encoding = tokenizer.encode_plus(\n",
    "        email_clean,\n",
    "        add_special_tokens=True,\n",
    "        max_length=128,\n",
    "        padding=\"max_length\",\n",
    "        truncation=True,\n",
    "        return_attention_mask=True,\n",
    "        return_tensors=\"pt\"\n",
    "    )\n",
    "    inputs = {\"input_ids\": encoding[\"input_ids\"].to(device),\n",
    "              \"attention_mask\": encoding[\"attention_mask\"].to(device)}\n",
    "    with torch.inference_mode():\n",
    "        logits = model(inputs)\n",
    "        probs = torch.softmax(logits, dim=1)\n",
    "    # For binary classification: index 0 -> Benign, index 1 -> Phishing.\n",
    "    prob_benign = float(probs[0][0])\n",
    "    prob_phishing = float(probs[0][1])\n",
    "    pred_time = round(timer() - start_time, 5)\n",
    "    return {\"Benign\": prob_benign, \"Phishing\": prob_phishing}, pred_time\n",
    "\n",
    "# Load examples from the examples directory\n",
    "example_dir = \"demos/phishing_email/examples\"\n",
    "example_list = []\n",
    "if os.path.exists(example_dir):\n",
    "    for file in os.listdir(example_dir):\n",
    "        with open(os.path.join(example_dir, file), \"r\") as f:\n",
    "            example_list.append([f.read().strip()])\n",
    "\n",
    "title = \"Phishing Email Detector\"\n",
    "description = (\n",
    "    \"This app detects phishing from various text sources (emails, SMS, URLs, HTML) using a transformer-based model. \"\n",
    "    \"The dataset is a compilation of phishing and benign data, preprocessed and balanced for classification.\"\n",
    ")\n",
    "article = \"Deploying a transformer-based phishing detector with Gradio.\"\n",
    "\n",
    "# Create the Gradio interface\n",
    "demo = gr.Interface(\n",
    "    fn=predict_email,\n",
    "    inputs=gr.Textbox(lines=5, placeholder=\"Enter email, SMS, URL or HTML content here...\"),\n",
    "    outputs=[gr.Label(num_top_classes=2, label=\"Predictions\"),\n",
    "             gr.Number(label=\"Prediction Time (s)\")],\n",
    "    examples=example_list,\n",
    "    title=title,\n",
    "    description=description,\n",
    "    article=article\n",
    ")\n",
    "\n",
    "if __name__ == \"__main__\":\n",
    "    demo.launch()"
   ]
  },
  {
   "cell_type": "code",
   "execution_count": 36,
   "metadata": {},
   "outputs": [
    {
     "name": "stdout",
     "output_type": "stream",
     "text": [
      "Inference device: cpu\n",
      "* Running on local URL:  http://127.0.0.1:7864\n",
      "\n",
      "To create a public link, set `share=True` in `launch()`.\n"
     ]
    },
    {
     "data": {
      "text/html": [
       "<div><iframe src=\"http://127.0.0.1:7864/\" width=\"100%\" height=\"500\" allow=\"autoplay; camera; microphone; clipboard-read; clipboard-write;\" frameborder=\"0\" allowfullscreen></iframe></div>"
      ],
      "text/plain": [
       "<IPython.core.display.HTML object>"
      ]
     },
     "metadata": {},
     "output_type": "display_data"
    },
    {
     "data": {
      "text/plain": []
     },
     "execution_count": 36,
     "metadata": {},
     "output_type": "execute_result"
    }
   ],
   "source": [
    "# Cell 10: Launch Gradio App for Phishing Detection (Updated)\n",
    "import gradio as gr\n",
    "import os\n",
    "import torch\n",
    "import re\n",
    "from transformers import DistilBertTokenizer\n",
    "from timeit import default_timer as timer\n",
    "\n",
    "# For this demo, we load the saved model from our demos/phishing_email directory\n",
    "from demos.phishing_email.model import load_model\n",
    "\n",
    "# Device for inference: force CPU for HF Spaces compatibility\n",
    "device = torch.device(\"cpu\")\n",
    "print(\"Inference device:\", device)\n",
    "\n",
    "# Load the model (make sure the saved state_dict is at the correct path)\n",
    "model = load_model(\"demos/phishing_email/transformer_phishing_model.pth\", device)\n",
    "\n",
    "# Load the tokenizer\n",
    "tokenizer = DistilBertTokenizer.from_pretrained(\"distilbert-base-uncased\")\n",
    "\n",
    "def clean_text(text):\n",
    "    \"\"\"Clean text input using similar preprocessing as training.\"\"\"\n",
    "    text = re.sub(r\"</?[^>]+>\", \" \", text)  # remove HTML tags\n",
    "    text = text.lower()\n",
    "    text = re.sub(r\"[^a-z0-9]\", \" \", text)   # remove non-alphanumerics\n",
    "    text = re.sub(r\"\\s+\", \" \", text)\n",
    "    return text.strip()\n",
    "\n",
    "def predict_email(email: str):\n",
    "    \"\"\"Predict whether an input text is phishing or benign.\n",
    "       Returns a dictionary mapping class labels to probabilities and inference time.\n",
    "    \"\"\"\n",
    "    start_time = timer()\n",
    "    # Preprocess the input email\n",
    "    email_clean = clean_text(email)\n",
    "    encoding = tokenizer.encode_plus(\n",
    "        email_clean,\n",
    "        add_special_tokens=True,\n",
    "        max_length=128,\n",
    "        padding=\"max_length\",\n",
    "        truncation=True,\n",
    "        return_attention_mask=True,\n",
    "        return_tensors=\"pt\"\n",
    "    )\n",
    "    inputs = {\"input_ids\": encoding[\"input_ids\"].to(device),\n",
    "              \"attention_mask\": encoding[\"attention_mask\"].to(device)}\n",
    "    with torch.inference_mode():\n",
    "        logits = model(inputs)\n",
    "        probs = torch.softmax(logits, dim=1)\n",
    "    # For binary classification: class 0: Benign, class 1: Phishing.\n",
    "    prob_benign = float(probs[0][0])\n",
    "    prob_phishing = float(probs[0][1])\n",
    "    pred_time = round(timer() - start_time, 5)\n",
    "    \n",
    "    # Return dictionary as required by gr.Label and the prediction time.\n",
    "    return {\"Benign\": prob_benign, \"Phishing\": prob_phishing}, pred_time\n",
    "\n",
    "# Create examples for the demo.\n",
    "# These examples include various types of text found in the dataset: emails, SMS messages, URLs, HTML snippets.\n",
    "example_texts = [\n",
    "    \"Dear customer, your account has been compromised. Click here to reset your password.\",\n",
    "    \"Urgent: Your invoice is overdue. Please remit payment immediately.\",\n",
    "    \"Hi there, just checking in on our meeting schedule for next week.\",\n",
    "    \"Visit our site at http://example-update.com to verify your information.\",\n",
    "    \"<html><body>Congratulations! You've won a prize. Please send your bank details.</body></html>\"\n",
    "]\n",
    "example_list = [[example] for example in example_texts]\n",
    "\n",
    "# Description containing dataset details\n",
    "description = (\n",
    "    \"This app detects phishing using a transformer-based model fine-tuned on a diverse dataset. \"\n",
    "    \"The dataset includes emails, SMS messages, URLs, and HTML code. \"\n",
    "    \"Labels: 'Phishing' if the message is phishing; 'Benign' if it is legitimate. \"\n",
    "    \"Preprocessing has removed nulls, duplicates, and balanced the classes.\"\n",
    ")\n",
    "\n",
    "# Create the Gradio interface\n",
    "demo = gr.Interface(\n",
    "    fn=predict_email,\n",
    "    inputs=gr.Textbox(lines=5, placeholder=\"Enter email, SMS, URL, or HTML content here...\"),\n",
    "    outputs=[gr.Label(num_top_classes=2, label=\"Predictions\"),\n",
    "             gr.Number(label=\"Prediction Time (s)\")],\n",
    "    examples=example_list,\n",
    "    title=\"Phishing Detection App\",\n",
    "    description=description,\n",
    "    article=\"This demo uses a transformer-based model (DistilBERT) fine-tuned for phishing detection.\"\n",
    ")\n",
    "\n",
    "# Launch the demo (this will open a local browser window to preview the app)\n",
    "demo.launch()"
   ]
  }
 ],
 "metadata": {
  "kernelspec": {
   "display_name": ".venv",
   "language": "python",
   "name": "python3"
  },
  "language_info": {
   "codemirror_mode": {
    "name": "ipython",
    "version": 3
   },
   "file_extension": ".py",
   "mimetype": "text/x-python",
   "name": "python",
   "nbconvert_exporter": "python",
   "pygments_lexer": "ipython3",
   "version": "3.13.2"
  }
 },
 "nbformat": 4,
 "nbformat_minor": 2
}
