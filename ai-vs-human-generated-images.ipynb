{
 "cells": [
  {
   "cell_type": "markdown",
   "id": "064c6440",
   "metadata": {},
   "source": [
    "# 🚀 Detect AI vs. Human-Generated Images  \n",
    "\n",
    "### **Competition Overview**  \n",
    "[🔗 **Kaggle Competition Link**](https://www.kaggle.com/competitions/detect-ai-vs-human-generated-images/overview)  \n",
    "\n",
    "This challenge focuses on distinguishing **AI-generated images** from **human-created** ones—a critical task in today’s digital landscape where deepfakes and synthetic media are rapidly evolving. Participants will develop ML models to classify images accurately while ensuring fairness and robustness.  \n"
   ]
  },
  {
   "cell_type": "markdown",
   "id": "728451d5",
   "metadata": {},
   "source": [
    "## Imports & Device Setup\n",
    "### Purpose\n",
    "- Load all the Python libraries needed for data handling, model creation, training loops, and evaluation metrics.  \n",
    "- Detect whether you have a CUDA GPU, Apple MPS device, or only a CPU, and set `device` so that all tensors and models are moved appropriately.\n",
    "\n"
   ]
  },
  {
   "cell_type": "code",
   "execution_count": 36,
   "id": "4d31e488",
   "metadata": {},
   "outputs": [
    {
     "name": "stdout",
     "output_type": "stream",
     "text": [
      "Using device: mps\n"
     ]
    }
   ],
   "source": [
    "# Cell 1: Imports & device setup\n",
    "import os\n",
    "import pandas as pd\n",
    "import torch\n",
    "import torch.nn as nn\n",
    "import torch.optim as optim\n",
    "import matplotlib.pyplot as plt\n",
    "from torchvision import transforms\n",
    "from torch.utils.data import Dataset, DataLoader, Subset\n",
    "from sklearn.model_selection import train_test_split\n",
    "import timm\n",
    "from PIL import Image\n",
    "\n",
    "# Device‑agnostic setup\n",
    "if torch.cuda.is_available():\n",
    "    device = torch.device(\"cuda\")\n",
    "elif torch.backends.mps.is_available():\n",
    "    device = torch.device(\"mps\")\n",
    "else:\n",
    "    device = torch.device(\"cpu\")\n",
    "print(\"Using device:\", device)\n",
    "\n",
    "# Paths\n",
    "base_dir = \"data/detect-ai-vs-human-generated-images\"\n",
    "csv_path = os.path.join(base_dir, \"train.csv\")"
   ]
  },
  {
   "cell_type": "markdown",
   "id": "df8fe612",
   "metadata": {},
   "source": [
    "\n",
    "\n",
    "## Data Transforms  \n",
    "### Purpose\n",
    "- Define two preprocessing pipelines—one for training (with augmentation) and one for validation (deterministic)—so that:\n",
    "  - **train_transform** introduces variability (random crops, flips, color jitter) to help the model generalize.  \n",
    "  - **val_transform** only resizes and normalizes, giving a consistent evaluation set.\n",
    "\n",
    "### Insight\n",
    "- **RandomResizedCrop** and **RandomHorizontalFlip** simulate different viewpoints and scales, reducing overfitting on background details.  \n",
    "- **ColorJitter** makes the model robust to lighting changes (important if AI‑generated vs. human images have different color profiles).  \n",
    "- **Normalize** centers and scales pixel values based on ImageNet statistics—critical because we use **pretrained** models that expect inputs normalized this way.\n"
   ]
  },
  {
   "cell_type": "code",
   "execution_count": 37,
   "id": "a4531f2b",
   "metadata": {},
   "outputs": [],
   "source": [
    "# Cell 2: Transforms\n",
    "train_transform = transforms.Compose([\n",
    "    transforms.Resize((256, 256)),\n",
    "    transforms.RandomResizedCrop(224, scale=(0.8, 1.0)),\n",
    "    transforms.RandomHorizontalFlip(),\n",
    "    transforms.ColorJitter(brightness=0.3, contrast=0.3, saturation=0.3, hue=0.05),\n",
    "    transforms.ToTensor(),\n",
    "    transforms.Normalize(mean=[0.485, 0.456, 0.406],\n",
    "                         std=[0.229, 0.224, 0.225]),\n",
    "])\n",
    "\n",
    "val_transform = transforms.Compose([\n",
    "    transforms.Resize((224, 224)),\n",
    "    transforms.ToTensor(),\n",
    "    transforms.Normalize(mean=[0.485, 0.456, 0.406],\n",
    "                         std=[0.229, 0.224, 0.225]),\n",
    "])"
   ]
  },
  {
   "cell_type": "markdown",
   "id": "cf746ee7",
   "metadata": {},
   "source": [
    "\n",
    "\n",
    "## Dataset & DataLoaders  \n",
    "### Purpose\n",
    "- **DetectAIDataset**: reads each row of `train.csv`, loads the image file, applies the appropriate transform, and returns `(image_tensor, label)`.  \n",
    "- Split the dataset into **train** and **validation** subsets (95%/5%) **stratified** by label to keep class balance.  \n",
    "- Wrap each subset in a PyTorch `DataLoader` for efficient batch fetching, shuffling (train), and parallel I/O (multi‑worker).\n",
    "\n",
    "### Insight\n",
    "- **Stratified split** ensures the rare class (if one exists) appears in both train and validation—avoiding misleading accuracy swings.  \n",
    "- **num_workers > 0** speeds up data loading but required the `fork` workaround on macOS to avoid pickling errors.  \n",
    "- **pin_memory=True** can slightly boost GPU throughput by keeping batches in page‑locked memory.\n",
    "\n"
   ]
  },
  {
   "cell_type": "code",
   "execution_count": null,
   "id": "60632f5b",
   "metadata": {},
   "outputs": [],
   "source": [
    "# Cell 3: Dataset class, splits & DataLoaders\n",
    "class DetectAIDataset(Dataset):\n",
    "    \"\"\"\n",
    "    Loads images and labels from CSV for AI vs human-generated classification.\n",
    "    \"\"\"\n",
    "    def __init__(self, csv_file, base_dir, transform=None):\n",
    "        self.df = pd.read_csv(csv_file)\n",
    "        self.base_dir = base_dir\n",
    "        self.transform = transform\n",
    "\n",
    "    def __len__(self):\n",
    "        return len(self.df)\n",
    "\n",
    "    def __getitem__(self, idx):\n",
    "        row = self.df.iloc[idx]\n",
    "        img_path = os.path.join(self.base_dir, row[\"file_name\"])\n",
    "        image = Image.open(img_path).convert(\"RGB\")\n",
    "        if self.transform:\n",
    "            image = self.transform(image)\n",
    "        label = int(row[\"label\"])\n",
    "        return image, label\n",
    "\n",
    "# Full dataset w/ train transforms\n",
    "full_dataset = DetectAIDataset(csv_file=csv_path,\n",
    "                               base_dir=base_dir,\n",
    "                               transform=train_transform)\n",
    "\n",
    "# Stratified train/val split\n",
    "train_indices, val_indices = train_test_split(\n",
    "    list(range(len(full_dataset))),\n",
    "    test_size=0.05,\n",
    "    random_state=42,\n",
    "    stratify=pd.read_csv(csv_path)['label']\n",
    ")\n",
    "\n",
    "train_subset = Subset(full_dataset, train_indices)\n",
    "val_dataset  = DetectAIDataset(csv_file=csv_path,\n",
    "                               base_dir=base_dir,\n",
    "                               transform=val_transform)\n",
    "val_subset   = Subset(val_dataset, val_indices)\n",
    "\n",
    "batch_size, num_workers = 32, 4\n",
    "train_loader = DataLoader(train_subset, \n",
    "                          batch_size=batch_size,\n",
    "                          shuffle=True, \n",
    "                          num_workers=num_workers, \n",
    "                          pin_memory=True)\n",
    "val_loader   = DataLoader(val_subset,   \n",
    "                          batch_size=batch_size,\n",
    "                          shuffle=False, \n",
    "                          num_workers=num_workers, \n",
    "                          pin_memory=True)"
   ]
  },
  {
   "cell_type": "markdown",
   "id": "075c0dbc",
   "metadata": {},
   "source": [
    "\n",
    "## Models Considered  \n",
    "### ViT  \n",
    "#### Background  \n",
    "- **Vision Transformer (ViT)** divides an image into fixed-size patches, flattens them, and processes them with transformer encoder blocks—borrowing the global **self-attention** mechanism from NLP.  \n",
    "- **Why ViT?**  \n",
    "  - Often achieves **state-of-the-art** on vision tasks with fewer inductive biases than CNNs—useful when distinguishing subtle “AI-generated” artifacts.  \n",
    "  - Its patch-based attention can capture long-range dependencies (e.g., unnatural textures spanning the image).  \n",
    "- **Freezing and Unfreezing**  \n",
    "  - We **freeze** early transformer blocks and the patch embedding to preserve the powerful pretrained ImageNet representations and reduce trainable parameters.  \n",
    "  - After a few epochs, we **unfreeze** the last block for **fine-tuning**—allowing the model to adapt high-level features to our two-class problem without catastrophic forgetting.  \n",
    "\n",
    "### EfficientNet-B3  \n",
    "#### Background  \n",
    "- **EfficientNet-B3** is a CNN optimized via **compound scaling** (uniformly increasing depth, width, and resolution) for efficiency and performance.  \n",
    "- **Why EfficientNet?**  \n",
    "  - Balances computational cost and accuracy, often outperforming larger models like ResNet50 with fewer parameters.  \n",
    "  - Its **depthwise separable convolutions** reduce redundancy, making it efficient for detecting subtle artifacts in AI-generated images.  \n",
    "- **Freezing and Unfreezing**  \n",
    "  - We **freeze** early blocks (stem and intermediate layers) to retain generic feature extractors (e.g., edge detectors).  \n",
    "  - Gradually **unfreeze** later blocks (e.g., `blocks_6` to `blocks_8`) to fine-tune task-specific hierarchical features while avoiding overfitting.  \n",
    "\n",
    "### ResNet50  \n",
    "#### Background  \n",
    "- **ResNet50** is a classic residual network with **skip connections**, enabling stable training of very deep architectures by mitigating vanishing gradients.  \n",
    "- **Why ResNet50?**  \n",
    "  - Provides a **reliable baseline**—its performance is well-documented across domains, making comparisons interpretable.  \n",
    "  - Residual blocks excel at preserving gradient flow, which is critical for learning fine-grained artifacts in AI-generated images.  \n",
    "- **Freezing and Unfreezing**  \n",
    "  - We **freeze** all layers except the final residual block (`layer4`) and the fully connected head.  \n",
    "  - This ensures the model retains low-level features (e.g., textures) while adapting high-level representations to the binary classification task.  \n",
    "\n",
    "### ConvNeXt  \n",
    "#### Background  \n",
    "- **ConvNeXt** modernizes CNNs by adopting transformer-inspired designs (e.g., **large kernel sizes**, LayerNorm, and fewer activation layers).  \n",
    "- **Why ConvNeXt?**  \n",
    "  - Bridges the gap between CNNs and transformers, offering ViT-like performance with CNN efficiency.  \n",
    "  - Its **hierarchical feature maps** (like traditional CNNs) may better capture local artifacts (e.g., unnatural pixel clusters) in AI-generated images.  \n",
    "- **Freezing and Unfreezing**  \n",
    "  - We **freeze** early stages (`stem` and `downsampling layers`) to leverage pretrained hierarchical representations.  \n",
    "  - **Unfreeze** later stages (e.g., `stage 3` and `stage 4`) to refine global context understanding for the task.  \n",
    "\n",
    "### Loading Pretrained & Freezing  \n",
    "- **Pretrained weights** give you a huge head start—your dataset is relatively small, so training from scratch would overfit or converge slowly.  \n",
    "- **Freezing** early layers:  \n",
    "  - Reduces total trainable parameters → speeds up training  \n",
    "  - Protects general, low-level features (edges, textures) from being wiped out by random gradients on a small dataset  \n",
    "- **Gradual unfreezing**:  \n",
    "  - Allows high-level blocks to adapt to the new task while retaining stable low-level feature detectors  \n",
    "  - Done at a lower learning rate (via scheduler) to avoid large parameter jumps  \n"
   ]
  },
  {
   "cell_type": "code",
   "execution_count": 39,
   "id": "a9c7b7a7",
   "metadata": {},
   "outputs": [],
   "source": [
    "# Cell 4: Model‑builder functions\n",
    "def get_model_vit(num_classes=2, num_freeze_layers=1):\n",
    "    model = timm.create_model('vit_base_patch16_224',\n",
    "                              pretrained=True,\n",
    "                              num_classes=num_classes)\n",
    "    if hasattr(model, 'blocks'):\n",
    "        total_blocks = len(model.blocks)\n",
    "        for i in range(total_blocks - num_freeze_layers):\n",
    "            for p in model.blocks[i].parameters():\n",
    "                p.requires_grad = False\n",
    "        if hasattr(model, 'patch_embed'):\n",
    "            for p in model.patch_embed.parameters():\n",
    "                p.requires_grad = False\n",
    "    return model\n",
    "\n",
    "def get_model_efficientnet(num_classes=2, num_freeze_layers=1):\n",
    "    model = timm.create_model('efficientnet_b3',\n",
    "                              pretrained=True,\n",
    "                              num_classes=num_classes)\n",
    "    if hasattr(model, 'blocks'):\n",
    "        total_blocks = len(model.blocks)\n",
    "        for i in range(total_blocks - num_freeze_layers):\n",
    "            for p in model.blocks[i].parameters():\n",
    "                p.requires_grad = False\n",
    "    return model\n",
    "\n",
    "def get_model_resnet50(num_classes=2, num_freeze_layers=1):\n",
    "    model = timm.create_model('resnet50',\n",
    "                              pretrained=True,\n",
    "                              num_classes=num_classes)\n",
    "    if num_freeze_layers >= 1:\n",
    "        for name, module in model.named_children():\n",
    "            if name not in ['layer4', 'fc']:\n",
    "                for p in module.parameters():\n",
    "                    p.requires_grad = False\n",
    "    return model\n",
    "\n",
    "def get_model_convnext(num_classes=2, num_freeze_layers=1):\n",
    "    model = timm.create_model('convnext_base',\n",
    "                              pretrained=True,\n",
    "                              num_classes=num_classes)\n",
    "    if hasattr(model, 'blocks'):\n",
    "        total_blocks = len(model.blocks)\n",
    "        for i in range(total_blocks - num_freeze_layers):\n",
    "            for p in model.blocks[i].parameters():\n",
    "                p.requires_grad = False\n",
    "    return model"
   ]
  },
  {
   "cell_type": "markdown",
   "id": "6fb35b9e",
   "metadata": {},
   "source": [
    "\n",
    "\n",
    "## Training Utilities  \n",
    "### train_step / eval_step  \n",
    "- Encapsulate one epoch of forward/backward passes or validation evaluation.  \n",
    "- Return **average loss** (for convergence tracking) and **accuracy** (basic performance check).\n",
    "\n",
    "### plot_loss_curves  \n",
    "- Visualize **train vs. val loss** and **accuracy** over epochs—quickly highlights under/over‑fitting.\n",
    "\n",
    "### train_model  \n",
    "- Orchestrates the full training:\n",
    "  - **Early stopping** on validation loss prevents over‑training.  \n",
    "  - **Learning‑rate scheduler** (StepLR) halves the LR every few epochs, helping refine weights.  \n",
    "  - **Scheduled unfreezing** of transformer blocks at epoch 3 to unlock additional capacity.\n",
    "- **Why this setup?**  \n",
    "  - Balances stability (frozen pretrained layers) with adaptability (fine‑tuning later)  \n",
    "  - Keeps training efficient and guards against overfitting on a small dataset\n",
    "\n"
   ]
  },
  {
   "cell_type": "code",
   "execution_count": 40,
   "id": "b3529b38",
   "metadata": {},
   "outputs": [],
   "source": [
    "# Cell 5: Training utilities\n",
    "from tqdm.auto import tqdm\n",
    "\n",
    "def train_step(model, dataloader, loss_fn, optimizer, device):\n",
    "    model.train()\n",
    "    total_loss = total_correct = total_samples = 0\n",
    "    for X, y in tqdm(dataloader, desc=\"Training\", leave=False):\n",
    "        X, y = X.to(device), y.to(device)\n",
    "        optimizer.zero_grad()\n",
    "        logits = model(X)\n",
    "        loss = loss_fn(logits, y)\n",
    "        loss.backward()\n",
    "        optimizer.step()\n",
    "        preds = torch.argmax(logits, dim=1)\n",
    "        total_correct += (preds == y).sum().item()\n",
    "        total_loss   += loss.item() * X.size(0)\n",
    "        total_samples+= X.size(0)\n",
    "    return total_loss/total_samples, total_correct/total_samples\n",
    "\n",
    "def eval_step(model, dataloader, loss_fn, device):\n",
    "    model.eval()\n",
    "    total_loss = total_correct = total_samples = 0\n",
    "    with torch.inference_mode():\n",
    "        for X, y in tqdm(dataloader, desc=\"Validation\", leave=False):\n",
    "            X, y = X.to(device), y.to(device)\n",
    "            logits = model(X)\n",
    "            loss = loss_fn(logits, y)\n",
    "            preds = torch.argmax(logits, dim=1)\n",
    "            total_correct += (preds == y).sum().item()\n",
    "            total_loss   += loss.item() * X.size(0)\n",
    "            total_samples+= X.size(0)\n",
    "    return total_loss/total_samples, total_correct/total_samples\n",
    "\n",
    "def plot_loss_curves(results):\n",
    "    epochs = range(len(results[\"train_loss\"]))\n",
    "    plt.figure(figsize=(12,5))\n",
    "    plt.subplot(1,2,1)\n",
    "    plt.plot(epochs, results[\"train_loss\"], label=\"train_loss\")\n",
    "    plt.plot(epochs, results[\"val_loss\"],   label=\"val_loss\")\n",
    "    plt.title(\"Loss\"); plt.xlabel(\"Epoch\"); plt.legend()\n",
    "    plt.subplot(1,2,2)\n",
    "    plt.plot(epochs, results[\"train_acc\"],  label=\"train_acc\")\n",
    "    plt.plot(epochs, results[\"val_acc\"],    label=\"val_acc\")\n",
    "    plt.title(\"Accuracy\"); plt.xlabel(\"Epoch\"); plt.legend()\n",
    "    plt.show()\n",
    "\n",
    "def train_model(model, train_loader, val_loader, loss_fn,\n",
    "                optimizer, scheduler, epochs, device,\n",
    "                base_lr, patience=3, unfreeze_epoch=3,\n",
    "                unfreeze_option=\"last\"):\n",
    "    history = {\"train_loss\":[], \"train_acc\":[], \"val_loss\":[], \"val_acc\":[]}\n",
    "    best_val_loss = float(\"inf\")\n",
    "    no_improve = 0\n",
    "    for epoch in range(1, epochs+1):\n",
    "        t_loss, t_acc = train_step(model, train_loader, loss_fn, optimizer, device)\n",
    "        v_loss, v_acc = eval_step(model, val_loader, loss_fn, device)\n",
    "        history[\"train_loss\"].append(t_loss)\n",
    "        history[\"train_acc\"].append(t_acc)\n",
    "        history[\"val_loss\"].append(v_loss)\n",
    "        history[\"val_acc\"].append(v_acc)\n",
    "        print(f\"Epoch {epoch}: train_loss={t_loss:.4f}, train_acc={t_acc:.4f} | val_loss={v_loss:.4f}, val_acc={v_acc:.4f}\")\n",
    "        if v_loss < best_val_loss:\n",
    "            best_val_loss, no_improve = v_loss, 0\n",
    "        else:\n",
    "            no_improve += 1\n",
    "            if no_improve >= patience:\n",
    "                print(f\"Early stopping at epoch {epoch}\")\n",
    "                break\n",
    "        if epoch == unfreeze_epoch and hasattr(model, \"blocks\"):\n",
    "            if unfreeze_option == \"last\":\n",
    "                print(\"Unfreezing last block…\")\n",
    "                for p in model.blocks[-1].parameters():\n",
    "                    p.requires_grad = True\n",
    "            for g in optimizer.param_groups:\n",
    "                g[\"lr\"] = base_lr * 0.5\n",
    "        if scheduler:\n",
    "            scheduler.step()\n",
    "    return history"
   ]
  },
  {
   "cell_type": "markdown",
   "id": "2c3aa3ed",
   "metadata": {},
   "source": [
    "\n",
    "\n",
    "## Instantiate, Train & Plot  \n",
    "### Purpose\n",
    "- Build the chosen model (e.g. ViT), move it to `device`, and set up:\n",
    "  - **loss_fn** = CrossEntropyLoss (standard for multi‑class/binary tasks)  \n",
    "  - **optimizer** = Adam on only `requires_grad=True` parameters (faster convergence)  \n",
    "  - **scheduler** = StepLR to reduce LR mid‑training  \n",
    "- Run `train_model` for a fixed number of epochs, then call `plot_loss_curves`.\n",
    "\n",
    "### Insight\n",
    "- Starting with a **low LR (1e‑4)** helps fine‑tuning avoid large parameter shifts.  \n",
    "- A **few epochs** (e.g., 5) plus early stopping is usually enough when fine‑tuning a pretrained model.\n",
    "\n"
   ]
  },
  {
   "cell_type": "code",
   "execution_count": 41,
   "id": "f188c12a",
   "metadata": {},
   "outputs": [
    {
     "data": {
      "application/vnd.jupyter.widget-view+json": {
       "model_id": "6476c382f453498ba18a8bbdf6421914",
       "version_major": 2,
       "version_minor": 0
      },
      "text/plain": [
       "Training:   0%|          | 0/1187 [00:00<?, ?it/s]"
      ]
     },
     "metadata": {},
     "output_type": "display_data"
    },
    {
     "name": "stderr",
     "output_type": "stream",
     "text": [
      "Exception ignored in: <function _silent_iter_del at 0x35bba91c0>\n",
      "Traceback (most recent call last):\n",
      "  File \"/var/folders/d_/bbmbtkjx5bldzz_9b7565vyh0000gn/T/ipykernel_48716/4246819289.py\", line 8, in _silent_iter_del\n",
      "  File \"/var/folders/d_/bbmbtkjx5bldzz_9b7565vyh0000gn/T/ipykernel_48716/4246819289.py\", line 8, in _silent_iter_del\n",
      "  File \"/var/folders/d_/bbmbtkjx5bldzz_9b7565vyh0000gn/T/ipykernel_48716/4246819289.py\", line 8, in _silent_iter_del\n",
      "  [Previous line repeated 997 more times]\n",
      "RecursionError: maximum recursion depth exceeded\n"
     ]
    },
    {
     "data": {
      "application/vnd.jupyter.widget-view+json": {
       "model_id": "dd3bcee508c64755a0d071b9cce97705",
       "version_major": 2,
       "version_minor": 0
      },
      "text/plain": [
       "Validation:   0%|          | 0/63 [00:00<?, ?it/s]"
      ]
     },
     "metadata": {},
     "output_type": "display_data"
    },
    {
     "name": "stderr",
     "output_type": "stream",
     "text": [
      "Exception ignored in: <function _silent_iter_del at 0x35bba91c0>\n",
      "Traceback (most recent call last):\n",
      "  File \"/var/folders/d_/bbmbtkjx5bldzz_9b7565vyh0000gn/T/ipykernel_48716/4246819289.py\", line 8, in _silent_iter_del\n",
      "  File \"/var/folders/d_/bbmbtkjx5bldzz_9b7565vyh0000gn/T/ipykernel_48716/4246819289.py\", line 8, in _silent_iter_del\n",
      "  File \"/var/folders/d_/bbmbtkjx5bldzz_9b7565vyh0000gn/T/ipykernel_48716/4246819289.py\", line 8, in _silent_iter_del\n",
      "  [Previous line repeated 997 more times]\n",
      "RecursionError: maximum recursion depth exceeded\n"
     ]
    },
    {
     "name": "stdout",
     "output_type": "stream",
     "text": [
      "Epoch 1: train_loss=0.1765, train_acc=0.9265 | val_loss=0.1148, val_acc=0.9582\n"
     ]
    },
    {
     "data": {
      "application/vnd.jupyter.widget-view+json": {
       "model_id": "94f343b4b40f400cab92f5f1d30f66cd",
       "version_major": 2,
       "version_minor": 0
      },
      "text/plain": [
       "Training:   0%|          | 0/1187 [00:00<?, ?it/s]"
      ]
     },
     "metadata": {},
     "output_type": "display_data"
    },
    {
     "name": "stderr",
     "output_type": "stream",
     "text": [
      "Exception ignored in: <function _silent_iter_del at 0x35bba91c0>\n",
      "Traceback (most recent call last):\n",
      "  File \"/var/folders/d_/bbmbtkjx5bldzz_9b7565vyh0000gn/T/ipykernel_48716/4246819289.py\", line 8, in _silent_iter_del\n",
      "  File \"/var/folders/d_/bbmbtkjx5bldzz_9b7565vyh0000gn/T/ipykernel_48716/4246819289.py\", line 8, in _silent_iter_del\n",
      "  File \"/var/folders/d_/bbmbtkjx5bldzz_9b7565vyh0000gn/T/ipykernel_48716/4246819289.py\", line 8, in _silent_iter_del\n",
      "  [Previous line repeated 997 more times]\n",
      "RecursionError: maximum recursion depth exceeded\n"
     ]
    },
    {
     "data": {
      "application/vnd.jupyter.widget-view+json": {
       "model_id": "7fbd8484f7f8425eab35d15268516aec",
       "version_major": 2,
       "version_minor": 0
      },
      "text/plain": [
       "Validation:   0%|          | 0/63 [00:00<?, ?it/s]"
      ]
     },
     "metadata": {},
     "output_type": "display_data"
    },
    {
     "name": "stderr",
     "output_type": "stream",
     "text": [
      "Exception ignored in: <function _silent_iter_del at 0x35bba91c0>\n",
      "Traceback (most recent call last):\n",
      "  File \"/var/folders/d_/bbmbtkjx5bldzz_9b7565vyh0000gn/T/ipykernel_48716/4246819289.py\", line 8, in _silent_iter_del\n",
      "  File \"/var/folders/d_/bbmbtkjx5bldzz_9b7565vyh0000gn/T/ipykernel_48716/4246819289.py\", line 8, in _silent_iter_del\n",
      "  File \"/var/folders/d_/bbmbtkjx5bldzz_9b7565vyh0000gn/T/ipykernel_48716/4246819289.py\", line 8, in _silent_iter_del\n",
      "  [Previous line repeated 997 more times]\n",
      "RecursionError: maximum recursion depth exceeded\n",
      "Exception ignored in: <function _silent_iter_del at 0x35bba91c0>\n",
      "Traceback (most recent call last):\n",
      "  File \"/var/folders/d_/bbmbtkjx5bldzz_9b7565vyh0000gn/T/ipykernel_48716/4246819289.py\", line 8, in _silent_iter_del\n",
      "  File \"/var/folders/d_/bbmbtkjx5bldzz_9b7565vyh0000gn/T/ipykernel_48716/4246819289.py\", line 8, in _silent_iter_del\n",
      "  File \"/var/folders/d_/bbmbtkjx5bldzz_9b7565vyh0000gn/T/ipykernel_48716/4246819289.py\", line 8, in _silent_iter_del\n",
      "  [Previous line repeated 997 more times]\n",
      "RecursionError: maximum recursion depth exceeded\n",
      "Exception ignored in: <function _silent_iter_del at 0x35bba91c0>\n",
      "Traceback (most recent call last):\n",
      "  File \"/var/folders/d_/bbmbtkjx5bldzz_9b7565vyh0000gn/T/ipykernel_48716/4246819289.py\", line 8, in _silent_iter_del\n",
      "  File \"/var/folders/d_/bbmbtkjx5bldzz_9b7565vyh0000gn/T/ipykernel_48716/4246819289.py\", line 8, in _silent_iter_del\n",
      "  File \"/var/folders/d_/bbmbtkjx5bldzz_9b7565vyh0000gn/T/ipykernel_48716/4246819289.py\", line 8, in _silent_iter_del\n",
      "  [Previous line repeated 997 more times]\n",
      "RecursionError: maximum recursion depth exceeded\n",
      "Exception ignored in: <function _silent_iter_del at 0x35bba91c0>\n",
      "Traceback (most recent call last):\n",
      "  File \"/var/folders/d_/bbmbtkjx5bldzz_9b7565vyh0000gn/T/ipykernel_48716/4246819289.py\", line 8, in _silent_iter_del\n",
      "  File \"/var/folders/d_/bbmbtkjx5bldzz_9b7565vyh0000gn/T/ipykernel_48716/4246819289.py\", line 8, in _silent_iter_del\n",
      "  File \"/var/folders/d_/bbmbtkjx5bldzz_9b7565vyh0000gn/T/ipykernel_48716/4246819289.py\", line 8, in _silent_iter_del\n",
      "  [Previous line repeated 997 more times]\n",
      "RecursionError: maximum recursion depth exceeded\n"
     ]
    },
    {
     "name": "stdout",
     "output_type": "stream",
     "text": [
      "Epoch 2: train_loss=0.0874, train_acc=0.9658 | val_loss=0.0980, val_acc=0.9665\n",
      "Unfreezing last block…\n"
     ]
    },
    {
     "data": {
      "application/vnd.jupyter.widget-view+json": {
       "model_id": "d5c4d451ab154fad967818f38aaf5070",
       "version_major": 2,
       "version_minor": 0
      },
      "text/plain": [
       "Training:   0%|          | 0/1187 [00:00<?, ?it/s]"
      ]
     },
     "metadata": {},
     "output_type": "display_data"
    },
    {
     "name": "stderr",
     "output_type": "stream",
     "text": [
      "Exception ignored in: <function _silent_iter_del at 0x35bba91c0>\n",
      "Traceback (most recent call last):\n",
      "  File \"/var/folders/d_/bbmbtkjx5bldzz_9b7565vyh0000gn/T/ipykernel_48716/4246819289.py\", line 8, in _silent_iter_del\n",
      "  File \"/var/folders/d_/bbmbtkjx5bldzz_9b7565vyh0000gn/T/ipykernel_48716/4246819289.py\", line 8, in _silent_iter_del\n",
      "  File \"/var/folders/d_/bbmbtkjx5bldzz_9b7565vyh0000gn/T/ipykernel_48716/4246819289.py\", line 8, in _silent_iter_del\n",
      "  [Previous line repeated 997 more times]\n",
      "RecursionError: maximum recursion depth exceeded\n"
     ]
    },
    {
     "data": {
      "application/vnd.jupyter.widget-view+json": {
       "model_id": "6d116cb7a38c4e73bf1dd18645c5954b",
       "version_major": 2,
       "version_minor": 0
      },
      "text/plain": [
       "Validation:   0%|          | 0/63 [00:00<?, ?it/s]"
      ]
     },
     "metadata": {},
     "output_type": "display_data"
    },
    {
     "name": "stderr",
     "output_type": "stream",
     "text": [
      "Exception ignored in: <function _silent_iter_del at 0x35bba91c0>\n",
      "Traceback (most recent call last):\n",
      "  File \"/var/folders/d_/bbmbtkjx5bldzz_9b7565vyh0000gn/T/ipykernel_48716/4246819289.py\", line 8, in _silent_iter_del\n",
      "  File \"/var/folders/d_/bbmbtkjx5bldzz_9b7565vyh0000gn/T/ipykernel_48716/4246819289.py\", line 8, in _silent_iter_del\n",
      "  File \"/var/folders/d_/bbmbtkjx5bldzz_9b7565vyh0000gn/T/ipykernel_48716/4246819289.py\", line 8, in _silent_iter_del\n",
      "  [Previous line repeated 997 more times]\n",
      "RecursionError: maximum recursion depth exceeded\n"
     ]
    },
    {
     "name": "stdout",
     "output_type": "stream",
     "text": [
      "Epoch 3: train_loss=0.0491, train_acc=0.9811 | val_loss=0.0807, val_acc=0.9715\n"
     ]
    },
    {
     "data": {
      "image/png": "[encoded data removed]",
      "text/plain": [
       "<Figure size 1200x500 with 2 Axes>"
      ]
     },
     "metadata": {},
     "output_type": "display_data"
    }
   ],
   "source": [
    "# Cell 6: Instantiate, train & plot\n",
    "vit_model = get_model_vit(num_classes=2, num_freeze_layers=1).to(device)\n",
    "\n",
    "loss_fn   = nn.CrossEntropyLoss()\n",
    "optimizer = optim.Adam(filter(lambda p: p.requires_grad, vit_model.parameters()), lr=1e-4)\n",
    "scheduler = optim.lr_scheduler.StepLR(optimizer, step_size=2, gamma=0.5)\n",
    "\n",
    "history = train_model(\n",
    "    model=vit_model,\n",
    "    train_loader=train_loader,\n",
    "    val_loader=val_loader,\n",
    "    loss_fn=loss_fn,\n",
    "    optimizer=optimizer,\n",
    "    scheduler=scheduler,\n",
    "    epochs=3,\n",
    "    device=device,\n",
    "    base_lr=1e-4,\n",
    "    patience=2,\n",
    "    unfreeze_epoch=2,\n",
    "    unfreeze_option=\"last\"\n",
    ")\n",
    "\n",
    "plot_loss_curves(history)"
   ]
  },
  {
   "cell_type": "markdown",
   "id": "7b52ac23",
   "metadata": {},
   "source": [
    "\n",
    "## Compute Metrics on Validation Set  \n",
    "### Definitions\n",
    "- **Accuracy** = (TP + TN) / (TP + TN + FP + FN)  \n",
    "  - Measures the overall correctness of the model: the proportion of correctly classified images (both AI and human) out of all predictions.  \n",
    "\n",
    "- **Precision** = TP / (TP + FP)  \n",
    "  - Measures how reliable the model is when it predicts an image as \"AI-generated.\"  \n",
    "  - Example: If the model labels 100 images as AI-generated, and 80 truly are, the precision is 80%.  \n",
    "\n",
    "- **Recall (Sensitivity)** = TP / (TP + FN)  \n",
    "  - Measures how well the model captures AI-generated images without missing them.  \n",
    "  - Example: If there are 100 true AI-generated images, and the model detects 70, the recall is 70%.  \n",
    "\n",
    "- **F1-score** = 2·(Precision·Recall) / (Precision + Recall)  \n",
    "  - A balanced metric combining precision and recall, useful when class imbalance exists.  \n",
    "  - Example: If precision is 80% and recall is 70%, the F1-score is ~74.4%.  \n",
    "\n",
    "\n",
    "### Why F1 for this competition?  \n",
    "- **Class imbalance** occurs when one category (e.g., \"AI-generated images\") is significantly rarer than another (e.g., \"human-generated images\"). For example:  \n",
    "  - If only 10% of the dataset is AI-generated and 90% is human, a naive model that *always* predicts \"human\" would achieve 90% accuracy—while failing entirely on the AI class.  \n",
    "  - Metrics like accuracy become misleading because they favor the majority class.  \n",
    "\n",
    "- **F1-score mitigates this issue** by:  \n",
    "  - Ignoring true negatives (TN) in its calculation, focusing instead on the model’s ability to:  \n",
    "    1. Correctly identify the rare class (AI images, via **recall**).  \n",
    "    2. Avoid mislabeling human images as AI (via **precision**).  \n",
    "  - Penalizing models that over-predict the majority class (e.g., always guessing \"human\").  \n",
    "\n",
    "- **Example**:  \n",
    "  - In a dataset with 95% human images, a model with 95% accuracy could be useless if it never detects AI images.  \n",
    "  - F1-score would expose this failure by dropping to ~0% if recall (AI detection) is 0%.  \n",
    "\n"
   ]
  },
  {
   "cell_type": "code",
   "execution_count": 42,
   "id": "6b52e0f5",
   "metadata": {},
   "outputs": [
    {
     "name": "stderr",
     "output_type": "stream",
     "text": [
      "Exception ignored in: <function _silent_iter_del at 0x35bba91c0>\n",
      "Traceback (most recent call last):\n",
      "  File \"/var/folders/d_/bbmbtkjx5bldzz_9b7565vyh0000gn/T/ipykernel_48716/4246819289.py\", line 8, in _silent_iter_del\n",
      "  File \"/var/folders/d_/bbmbtkjx5bldzz_9b7565vyh0000gn/T/ipykernel_48716/4246819289.py\", line 8, in _silent_iter_del\n",
      "  File \"/var/folders/d_/bbmbtkjx5bldzz_9b7565vyh0000gn/T/ipykernel_48716/4246819289.py\", line 8, in _silent_iter_del\n",
      "  [Previous line repeated 997 more times]\n",
      "RecursionError: maximum recursion depth exceeded\n"
     ]
    },
    {
     "name": "stdout",
     "output_type": "stream",
     "text": [
      "Precision: 0.9659, Recall: 0.9775, F1: 0.9717\n"
     ]
    }
   ],
   "source": [
    "\n",
    "# Cell 7: Compute precision, recall, F1 on validation\n",
    "from sklearn.metrics import precision_score, recall_score, f1_score\n",
    "\n",
    "vit_model.eval()\n",
    "all_preds, all_labels = [], []\n",
    "\n",
    "with torch.inference_mode():\n",
    "    for X, y in val_loader:\n",
    "        X, y = X.to(device), y.to(device)\n",
    "        logits = vit_model(X)\n",
    "        probs  = torch.softmax(logits, dim=1)[:,1].cpu().numpy()\n",
    "        preds  = (probs >= 0.5).astype(int)\n",
    "        all_preds.extend(preds)\n",
    "        all_labels.extend(y.cpu().numpy())\n",
    "\n",
    "precision = precision_score(all_labels, all_preds)\n",
    "recall    = recall_score(all_labels, all_preds)\n",
    "f1        = f1_score(all_labels, all_preds)\n",
    "print(f\"Precision: {precision:.4f}, Recall: {recall:.4f}, F1: {f1:.4f}\")"
   ]
  },
  {
   "cell_type": "markdown",
   "id": "e9336428",
   "metadata": {},
   "source": [
    "\n",
    "\n",
    "## Generate `submission.csv`  \n",
    "### Purpose\n",
    "- Read `test.csv` (only image IDs).  \n",
    "- For each image:\n",
    "  - Load and apply `val_transform`  \n",
    "  - Run inference, compute `prob = softmax(...)[1]`  \n",
    "  - Threshold `prob ≥ 0.5` → label 1 (AI) or 0 (human)  \n",
    "- Save two‑column CSV (`id`, `label`) for direct submission.\n",
    "\n",
    "### Insight\n",
    "- Using **the same validation transforms** ensures consistency between how images are seen at test time and validation time.  \n",
    "- A **0.5 threshold** is natural for a balanced binary classification, aligning with the F1‑score calculation at the 0.5 cutoff."
   ]
  },
  {
   "cell_type": "code",
   "execution_count": 43,
   "id": "9e243320",
   "metadata": {},
   "outputs": [
    {
     "name": "stdout",
     "output_type": "stream",
     "text": [
      "Saved submission.csv\n"
     ]
    }
   ],
   "source": [
    "# Cell 8: Generate submission.csv\n",
    "test_csv_path = os.path.join(base_dir, \"test.csv\")\n",
    "df_test = pd.read_csv(test_csv_path)  # expects an 'id' column\n",
    "\n",
    "test_labels = []\n",
    "vit_model.eval()\n",
    "with torch.inference_mode():\n",
    "    for _, row in df_test.iterrows():\n",
    "        img   = Image.open(os.path.join(base_dir, row[\"id\"])).convert(\"RGB\")\n",
    "        img_t = val_transform(img).unsqueeze(0).to(device)\n",
    "        prob  = torch.softmax(vit_model(img_t), dim=1)[0,1].item()\n",
    "        test_labels.append(int(prob >= 0.5))\n",
    "\n",
    "df_test[\"label\"] = test_labels\n",
    "df_test[[\"id\",\"label\"]].to_csv(\"submission.csv\", index=False)\n",
    "print(\"Saved submission.csv\")"
   ]
  }
 ],
 "metadata": {
  "kernelspec": {
   "display_name": ".venv",
   "language": "python",
   "name": "python3"
  },
  "language_info": {
   "codemirror_mode": {
    "name": "ipython",
    "version": 3
   },
   "file_extension": ".py",
   "mimetype": "text/x-python",
   "name": "python",
   "nbconvert_exporter": "python",
   "pygments_lexer": "ipython3",
   "version": "3.13.2"
  }
 },
 "nbformat": 4,
 "nbformat_minor": 5
}
